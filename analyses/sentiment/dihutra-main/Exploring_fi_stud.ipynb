{
 "cells": [
  {
   "cell_type": "code",
   "execution_count": 1,
   "id": "f16e813f-2a26-4025-97d1-1ce5daf0fc68",
   "metadata": {
    "tags": []
   },
   "outputs": [],
   "source": [
    "# uploading term2doc_nostopwords_en-ru.news+reviews.profs.id+en+ru\n",
    "import json\n",
    "filename = 'term2doc_nostopwords_en-fi.reviews.studs.id+en+fi.json'\n",
    "with open(filename, 'rb') as f:\n",
    "    matrix = json.load(f)"
   ]
  },
  {
   "cell_type": "code",
   "execution_count": 2,
   "id": "46229c92-a96e-42f8-ab8c-809c2ebecac7",
   "metadata": {
    "tags": []
   },
   "outputs": [
    {
     "data": {
      "text/plain": [
       "5249"
      ]
     },
     "execution_count": 2,
     "metadata": {},
     "output_type": "execute_result"
    }
   ],
   "source": [
    "len(matrix)"
   ]
  },
  {
   "cell_type": "code",
   "execution_count": 3,
   "id": "54766421-7b85-4a0f-998c-012af00be3d3",
   "metadata": {
    "tags": []
   },
   "outputs": [
    {
     "name": "stdout",
     "output_type": "stream",
     "text": [
      "['en_featur', 'fi_kitar', 'en_).', 'fi_helpot', 'en_found', 'fi_välin', 'en_strain', 'en_diet', 'fi_pelas', 'fi_totuus']\n"
     ]
    }
   ],
   "source": [
    "# the keys look like this:\n",
    "keys = list(matrix.keys())\n",
    "print(keys[:10])\n"
   ]
  },
  {
   "cell_type": "code",
   "execution_count": 4,
   "id": "ed57ddfb-e37e-484b-a2e3-f48fc9099a8b",
   "metadata": {
    "tags": []
   },
   "outputs": [],
   "source": [
    "# import the cosine metric and the stemmers for english and the other language\n",
    "from sklearn.metrics.pairwise import cosine_similarity\n",
    "from nltk.stem.snowball import SnowballStemmer\n",
    "stemmer_en = SnowballStemmer(\"english\")\n",
    "stemmer_other = SnowballStemmer(\"finnish\") # stemmer for the \"other language\", here russian; finnish for finnish etc.\n",
    "\n"
   ]
  },
  {
   "cell_type": "code",
   "execution_count": 5,
   "id": "75d07e48-7151-45d0-9549-4bebbdcf2d9c",
   "metadata": {
    "tags": []
   },
   "outputs": [
    {
     "name": "stdout",
     "output_type": "stream",
     "text": [
      "en_dog\n"
     ]
    }
   ],
   "source": [
    "# let's not forget the prefix for the language!\n",
    "# I will make a function that goes from word to key to go faster\n",
    "def word2key(word, lang):\n",
    "    return lang + '_' + stemmer_en.stem(word) if lang == 'en' else lang + '_' + stemmer_other.stem(word)\n",
    "\n",
    "# let's try it out\n",
    "print(word2key('dog', 'en'))"
   ]
  },
  {
   "cell_type": "code",
   "execution_count": 7,
   "id": "b2a265a4-9ca3-4ab0-a976-470fdd21b65f",
   "metadata": {
    "tags": []
   },
   "outputs": [
    {
     "ename": "KeyError",
     "evalue": "'ru_книга'",
     "output_type": "error",
     "traceback": [
      "\u001b[0;31m---------------------------------------------------------------------------\u001b[0m",
      "\u001b[0;31mKeyError\u001b[0m                                  Traceback (most recent call last)",
      "Cell \u001b[0;32mIn[7], line 5\u001b[0m\n\u001b[1;32m      3\u001b[0m english_key \u001b[38;5;241m=\u001b[39m word2key(\u001b[38;5;124m'\u001b[39m\u001b[38;5;124mbook\u001b[39m\u001b[38;5;124m'\u001b[39m, \u001b[38;5;124m'\u001b[39m\u001b[38;5;124men\u001b[39m\u001b[38;5;124m'\u001b[39m)\n\u001b[1;32m      4\u001b[0m finnish_key \u001b[38;5;241m=\u001b[39m word2key(\u001b[38;5;124m'\u001b[39m\u001b[38;5;124mкнига\u001b[39m\u001b[38;5;124m'\u001b[39m, \u001b[38;5;124m'\u001b[39m\u001b[38;5;124mru\u001b[39m\u001b[38;5;124m'\u001b[39m)\n\u001b[0;32m----> 5\u001b[0m cosine_similarity([matrix[english_key]], [\u001b[43mmatrix\u001b[49m\u001b[43m[\u001b[49m\u001b[43mfinnish_key\u001b[49m\u001b[43m]\u001b[49m])\n",
      "\u001b[0;31mKeyError\u001b[0m: 'ru_книга'"
     ]
    }
   ],
   "source": [
    "# comparing two words' similarity\n",
    "\n",
    "english_key = word2key('book', 'en')\n",
    "finnish_key = word2key('книга', 'ru')\n",
    "cosine_similarity([matrix[english_key]], [matrix[finnish_key]])\n"
   ]
  },
  {
   "cell_type": "code",
   "execution_count": 8,
   "id": "dcd39055-dcbc-4239-ab53-034064e58f58",
   "metadata": {
    "tags": []
   },
   "outputs": [],
   "source": [
    "# finding the nearest neighbours\n",
    "# what is the nearest neighbour to the word 'book' in the other language?\n",
    "\n",
    "to_sort = []\n",
    "for w in keys:\n",
    "    if w != english_key:\n",
    "        to_sort.append((cosine_similarity([matrix[english_key]], [matrix[w]]),w))\n",
    "\n"
   ]
  },
  {
   "cell_type": "code",
   "execution_count": 9,
   "id": "f7f4a3ab-091e-4342-a5bc-8a961f6536df",
   "metadata": {
    "tags": []
   },
   "outputs": [
    {
     "data": {
      "text/plain": [
       "[(array([[0.90099965]]), 'fi_kirj'),\n",
       " (array([[0.31980107]]), 'en_cake'),\n",
       " (array([[0.25]]), 'fi_sivu'),\n",
       " (array([[0.25]]), 'en_page'),\n",
       " (array([[0.24207223]]), 'fi_.'),\n",
       " (array([[0.23482614]]), 'en_.'),\n",
       " (array([[0.20833333]]), 'fi_kaku'),\n",
       " (array([[0.20578269]]), 'fi_,'),\n",
       " (array([[0.19764235]]), 'en_wed'),\n",
       " (array([[0.1821232]]), 'en_use')]"
      ]
     },
     "execution_count": 9,
     "metadata": {},
     "output_type": "execute_result"
    }
   ],
   "source": [
    "n=10\n",
    "sorted(to_sort, reverse=True)[:n]"
   ]
  },
  {
   "cell_type": "code",
   "execution_count": 10,
   "id": "39dc1d94-10ec-481a-b9f4-84118997d17f",
   "metadata": {
    "tags": []
   },
   "outputs": [],
   "source": [
    "# I will also make a function to go from a word to its 10 nearest neighbours\n",
    "def nearest_neighbours(word, lang, n=10):\n",
    "    key = word2key(word, lang)\n",
    "    to_sort = []\n",
    "    for w in keys:\n",
    "        if w != key:\n",
    "            to_sort.append((cosine_similarity([matrix[key]], [matrix[w]]),w))\n",
    "    return sorted(to_sort, reverse=True)[:n]\n"
   ]
  },
  {
   "cell_type": "code",
   "execution_count": 11,
   "id": "8217b35b-e796-4575-9957-5b260c4f6765",
   "metadata": {
    "tags": []
   },
   "outputs": [],
   "source": [
    "# Exploring most frequent positive words in EN originals: good, great, well, favorite, nice, excellent, original, recommend, love"
   ]
  },
  {
   "cell_type": "code",
   "execution_count": 11,
   "id": "3721401c-0e9c-4c3e-8ace-9215e1e324ea",
   "metadata": {
    "tags": []
   },
   "outputs": [
    {
     "data": {
      "text/plain": [
       "[(array([[0.56343617]]), 'fi_hyvä'),\n",
       " (array([[0.21081851]]), 'fi_yötä'),\n",
       " (array([[0.21081851]]), 'fi_vuodenaiko'),\n",
       " (array([[0.21081851]]), 'fi_un'),\n",
       " (array([[0.21081851]]), 'fi_olem'),\n",
       " (array([[0.21081851]]), 'en_butterfli'),\n",
       " (array([[0.21035158]]), 'fi_,'),\n",
       " (array([[0.20869968]]), 'en_realli'),\n",
       " (array([[0.18519606]]), 'fi_.'),\n",
       " (array([[0.18257419]]), 'en_idea')]"
      ]
     },
     "execution_count": 11,
     "metadata": {},
     "output_type": "execute_result"
    }
   ],
   "source": [
    "nearest_neighbours('good', 'en')"
   ]
  },
  {
   "cell_type": "code",
   "execution_count": 28,
   "id": "d5f9fb4d-21a7-45c6-9d25-a6e4b99866a8",
   "metadata": {
    "tags": []
   },
   "outputs": [
    {
     "data": {
      "text/plain": [
       "[(array([[0.27439774]]), 'fi_mahtav'),\n",
       " (array([[0.27216553]]), 'fi_toimi'),\n",
       " (array([[0.26832816]]), 'fi_loistav'),\n",
       " (array([[0.25584086]]), 'fi_erinomais'),\n",
       " (array([[0.24944383]]), 'fi_hyvä'),\n",
       " (array([[0.21320072]]), 'en_work'),\n",
       " (array([[0.2]]), 'fi_laatiko'),\n",
       " (array([[0.2]]), 'en_n'),\n",
       " (array([[0.2]]), 'en_alphabet'),\n",
       " (array([[0.16329932]]), 'fi_vihr')]"
      ]
     },
     "execution_count": 28,
     "metadata": {},
     "output_type": "execute_result"
    }
   ],
   "source": [
    "nearest_neighbours('great', 'en')"
   ]
  },
  {
   "cell_type": "code",
   "execution_count": 29,
   "id": "1489994d-51e4-447c-98f8-8d95ead42746",
   "metadata": {
    "tags": []
   },
   "outputs": [
    {
     "data": {
      "text/plain": [
       "[(array([[0.48141065]]), 'fi_hyv'),\n",
       " (array([[0.33218192]]), 'fi_kirjoitetu'),\n",
       " (array([[0.28589668]]), 'fi_toimi'),\n",
       " (array([[0.28074496]]), 'en_written'),\n",
       " (array([[0.27994626]]), 'en_work'),\n",
       " (array([[0.26261287]]), 'fi_noh'),\n",
       " (array([[0.26261287]]), 'fi_kokoin'),\n",
       " (array([[0.19165499]]), 'en_veri'),\n",
       " (array([[0.18569534]]), 'fi_”...'),\n",
       " (array([[0.18569534]]), 'fi_yrittäj')]"
      ]
     },
     "execution_count": 29,
     "metadata": {},
     "output_type": "execute_result"
    }
   ],
   "source": [
    "nearest_neighbours('well', 'en')"
   ]
  },
  {
   "cell_type": "code",
   "execution_count": 30,
   "id": "ea211f19-b412-412a-997a-9aeda99849b2",
   "metadata": {
    "tags": []
   },
   "outputs": [
    {
     "data": {
      "text/plain": [
       "[(array([[0.43643578]]), 'fi_lemppar'),\n",
       " (array([[0.37796447]]), 'fi_taita'),\n",
       " (array([[0.37796447]]), 'fi_näytäi'),\n",
       " (array([[0.37796447]]), 'fi_mok'),\n",
       " (array([[0.37796447]]), 'fi_lomaelokuv'),\n",
       " (array([[0.37796447]]), 'fi_lempparilef'),\n",
       " (array([[0.37796447]]), 'fi_lempikark'),\n",
       " (array([[0.37796447]]), 'fi_lempijouluelokuv'),\n",
       " (array([[0.37796447]]), 'fi_kakunsuunnittelj'),\n",
       " (array([[0.37796447]]), 'fi_juhlapyh')]"
      ]
     },
     "execution_count": 30,
     "metadata": {},
     "output_type": "execute_result"
    }
   ],
   "source": [
    "nearest_neighbours('favorite', 'en')"
   ]
  },
  {
   "cell_type": "code",
   "execution_count": 31,
   "id": "60542010-99f8-478f-9c81-c2dd821ba2ec",
   "metadata": {
    "tags": []
   },
   "outputs": [
    {
     "data": {
      "text/plain": [
       "[(array([[0.47809144]]), 'fi_kiva'),\n",
       " (array([[0.46291005]]), 'fi_mukav'),\n",
       " (array([[0.37796447]]), 'fi_viest'),\n",
       " (array([[0.3086067]]), 'fi_yrityks'),\n",
       " (array([[0.3086067]]), 'fi_henkilö'),\n",
       " (array([[0.26726124]]), 'fi_ystävällis'),\n",
       " (array([[0.26726124]]), 'fi_yritys'),\n",
       " (array([[0.26726124]]), 'fi_väitet'),\n",
       " (array([[0.26726124]]), 'fi_vuorovaikutu'),\n",
       " (array([[0.26726124]]), 'fi_veloituks')]"
      ]
     },
     "execution_count": 31,
     "metadata": {},
     "output_type": "execute_result"
    }
   ],
   "source": [
    "nearest_neighbours('nice', 'en')"
   ]
  },
  {
   "cell_type": "code",
   "execution_count": 32,
   "id": "aeef373e-898a-4155-b6af-301015ccc08f",
   "metadata": {
    "tags": []
   },
   "outputs": [
    {
     "data": {
      "text/plain": [
       "[(array([[0.42163702]]), 'fi_erinomain'),\n",
       " (array([[0.31622777]]), 'fi_toiminnallisuus'),\n",
       " (array([[0.31622777]]), 'fi_payne'),\n",
       " (array([[0.31622777]]), 'fi_osais'),\n",
       " (array([[0.31622777]]), 'fi_onnistun'),\n",
       " (array([[0.31622777]]), 'fi_näyttel'),\n",
       " (array([[0.31622777]]), 'fi_messinkis'),\n",
       " (array([[0.31622777]]), 'fi_markkino'),\n",
       " (array([[0.31622777]]), 'fi_letkuliittim'),\n",
       " (array([[0.31622777]]), 'fi_kuvail')]"
      ]
     },
     "execution_count": 32,
     "metadata": {},
     "output_type": "execute_result"
    }
   ],
   "source": [
    "nearest_neighbours('excellent', 'en')"
   ]
  },
  {
   "cell_type": "code",
   "execution_count": 33,
   "id": "3c10bd41-0db1-4bb8-b6b5-d48c6d3b25f9",
   "metadata": {
    "tags": []
   },
   "outputs": [
    {
     "data": {
      "text/plain": [
       "[(array([[0.67936622]]), 'fi_alkuperäin'),\n",
       " (array([[0.5547002]]), 'fi_alkuperäis'),\n",
       " (array([[0.39223227]]), 'fi_teemo'),\n",
       " (array([[0.39223227]]), 'fi_cliffhanger'),\n",
       " (array([[0.39223227]]), 'en_theme'),\n",
       " (array([[0.39223227]]), 'en_shown'),\n",
       " (array([[0.30769231]]), 'en_show'),\n",
       " (array([[0.2773501]]), 'fi_”),'),\n",
       " (array([[0.2773501]]), 'fi_ylistyslaulu'),\n",
       " (array([[0.2773501]]), 'fi_yhteys')]"
      ]
     },
     "execution_count": 33,
     "metadata": {},
     "output_type": "execute_result"
    }
   ],
   "source": [
    "nearest_neighbours('original', 'en')"
   ]
  },
  {
   "cell_type": "code",
   "execution_count": 18,
   "id": "40ac4865-2ac6-44b3-83d3-0c73e6013e85",
   "metadata": {
    "tags": []
   },
   "outputs": [
    {
     "data": {
      "text/plain": [
       "[(array([[0.76486616]]), 'fi_suosittel'),\n",
       " (array([[0.43852901]]), 'fi_suosit'),\n",
       " (array([[0.43412157]]), 'en_anyon'),\n",
       " (array([[0.34544086]]), 'en_would'),\n",
       " (array([[0.33968311]]), 'fi_kene'),\n",
       " (array([[0.2773501]]), 'fi_suosittelis'),\n",
       " (array([[0.2773501]]), 'fi_kokeilet'),\n",
       " (array([[0.2773501]]), 'en_7'),\n",
       " (array([[0.26148818]]), 'fi_kaik'),\n",
       " (array([[0.23652496]]), 'fi_voin')]"
      ]
     },
     "execution_count": 18,
     "metadata": {},
     "output_type": "execute_result"
    }
   ],
   "source": [
    "nearest_neighbours('recommend', 'en')"
   ]
  },
  {
   "cell_type": "code",
   "execution_count": 34,
   "id": "97ec74eb-0309-40c1-b3b8-3c49e73d4af6",
   "metadata": {
    "tags": []
   },
   "outputs": [
    {
     "data": {
      "text/plain": [
       "[(array([[0.84084099]]), 'fi_rakast'),\n",
       " (array([[0.24253563]]), 'fi_kotelo'),\n",
       " (array([[0.21004201]]), 'fi_vanh'),\n",
       " (array([[0.19802951]]), 'fi_pian'),\n",
       " (array([[0.19802951]]), 'fi_macely'),\n",
       " (array([[0.19802951]]), 'en_mace'),\n",
       " (array([[0.17712298]]), 'en_case'),\n",
       " (array([[0.17149859]]), 'fi_äärimmäis'),\n",
       " (array([[0.17149859]]), 'fi_äänit'),\n",
       " (array([[0.17149859]]), 'fi_äid')]"
      ]
     },
     "execution_count": 34,
     "metadata": {},
     "output_type": "execute_result"
    }
   ],
   "source": [
    "nearest_neighbours('love', 'en')"
   ]
  },
  {
   "cell_type": "code",
   "execution_count": null,
   "id": "0ea9411e-5bea-48de-a6bd-4869c0bdfe07",
   "metadata": {},
   "outputs": [],
   "source": [
    "# Exploring most frequent negative words in EN originals: fake, awful, bad, lame, mean, upset, weak, knockoff, mess, cramp, hate"
   ]
  },
  {
   "cell_type": "code",
   "execution_count": 35,
   "id": "aee68a93-72bf-4df4-9b2e-74fdf5bea40e",
   "metadata": {
    "tags": []
   },
   "outputs": [
    {
     "data": {
      "text/plain": [
       "[(array([[0.65079137]]), 'fi_mac'),\n",
       " (array([[0.65079137]]), 'en_mac'),\n",
       " (array([[0.59408853]]), 'fi_väärennety'),\n",
       " (array([[0.48507125]]), 'en_sale'),\n",
       " (array([[0.42008403]]), 'fi_väärennettyj'),\n",
       " (array([[0.42008403]]), 'fi_myynt'),\n",
       " (array([[0.42008403]]), 'fi_feik'),\n",
       " (array([[0.42008403]]), 'en_dont'),\n",
       " (array([[0.36380344]]), 'en_makeup'),\n",
       " (array([[0.34299717]]), 'fi_väärennös')]"
      ]
     },
     "execution_count": 35,
     "metadata": {},
     "output_type": "execute_result"
    }
   ],
   "source": [
    "nearest_neighbours('fake', 'en')"
   ]
  },
  {
   "cell_type": "code",
   "execution_count": 36,
   "id": "c4ca93ac-6b24-4114-aa69-c1e853f4e4c5",
   "metadata": {
    "tags": []
   },
   "outputs": [
    {
     "data": {
      "text/plain": [
       "[(array([[0.84515425]]), 'fi_kauhe'),\n",
       " (array([[0.45584231]]), 'fi_maku'),\n",
       " (array([[0.39036003]]), 'en_tast'),\n",
       " (array([[0.37796447]]), 'fi_syömäpuiko'),\n",
       " (array([[0.37796447]]), 'fi_sietä'),\n",
       " (array([[0.37796447]]), 'fi_puist'),\n",
       " (array([[0.37796447]]), 'fi_nähdy'),\n",
       " (array([[0.37796447]]), 'fi_muodo'),\n",
       " (array([[0.37796447]]), 'fi_metallis'),\n",
       " (array([[0.37796447]]), 'fi_kamal')]"
      ]
     },
     "execution_count": 36,
     "metadata": {},
     "output_type": "execute_result"
    }
   ],
   "source": [
    "nearest_neighbours('awful', 'en')"
   ]
  },
  {
   "cell_type": "code",
   "execution_count": 37,
   "id": "57dbc844-1edf-4f84-84a6-d649c14ac72f",
   "metadata": {
    "tags": []
   },
   "outputs": [
    {
     "data": {
      "text/plain": [
       "[(array([[1.]]), 'fi_vaisu'),\n",
       " (array([[0.70710678]]), 'fi_ylistyslaulu'),\n",
       " (array([[0.70710678]]), 'fi_tunnar'),\n",
       " (array([[0.70710678]]), 'fi_show'),\n",
       " (array([[0.70710678]]), 'fi_nykyis'),\n",
       " (array([[0.70710678]]), 'fi_myön'),\n",
       " (array([[0.70710678]]), 'fi_jimy'),\n",
       " (array([[0.70710678]]), 'fi_durant'),\n",
       " (array([[0.70710678]]), 'en_paean'),\n",
       " (array([[0.70710678]]), 'en_jimmi')]"
      ]
     },
     "execution_count": 37,
     "metadata": {},
     "output_type": "execute_result"
    }
   ],
   "source": [
    "nearest_neighbours('lame', 'en')"
   ]
  },
  {
   "cell_type": "code",
   "execution_count": 38,
   "id": "19c0f37c-f2b9-4b20-ae20-8a3da6390149",
   "metadata": {
    "tags": []
   },
   "outputs": [
    {
     "data": {
      "text/plain": [
       "[(array([[0.57735027]]), 'fi_tekem'),\n",
       " (array([[0.57735027]]), 'fi_suurin'),\n",
       " (array([[0.57735027]]), 'fi_kourallis'),\n",
       " (array([[0.57735027]]), 'fi_kala'),\n",
       " (array([[0.57735027]]), 'fi_??'),\n",
       " (array([[0.57735027]]), 'en_grandkid'),\n",
       " (array([[0.57735027]]), 'en_fish'),\n",
       " (array([[0.57735027]]), 'en_anyway'),\n",
       " (array([[0.57735027]]), 'en_??'),\n",
       " (array([[0.40824829]]), 'fi_ruudu')]"
      ]
     },
     "execution_count": 38,
     "metadata": {},
     "output_type": "execute_result"
    }
   ],
   "source": [
    "nearest_neighbours('mean', 'en')"
   ]
  },
  {
   "cell_type": "code",
   "execution_count": 39,
   "id": "dea94b29-f3f5-494c-a9bd-067e20234fd3",
   "metadata": {
    "tags": []
   },
   "outputs": [
    {
     "data": {
      "text/plain": [
       "[(array([[0.5]]), 'fi_vihain'),\n",
       " (array([[0.5]]), 'fi_viallis'),\n",
       " (array([[0.5]]), 'fi_tuntitolku'),\n",
       " (array([[0.5]]), 'fi_surullin'),\n",
       " (array([[0.5]]), 'fi_muist'),\n",
       " (array([[0.5]]), 'fi_lataudu'),\n",
       " (array([[0.5]]), 'fi_lamp'),\n",
       " (array([[0.5]]), 'fi_kidnapat'),\n",
       " (array([[0.5]]), 'fi_kats'),\n",
       " (array([[0.5]]), 'fi_ikäv')]"
      ]
     },
     "execution_count": 39,
     "metadata": {},
     "output_type": "execute_result"
    }
   ],
   "source": [
    "nearest_neighbours('upset', 'en')"
   ]
  },
  {
   "cell_type": "code",
   "execution_count": 40,
   "id": "2554095e-d52e-4970-8369-7e2750befee1",
   "metadata": {
    "tags": []
   },
   "outputs": [
    {
     "data": {
      "text/plain": [
       "[(array([[1.]]), 'fi_heiko'),\n",
       " (array([[0.70710678]]), 'fi_tuiki'),\n",
       " (array([[0.70710678]]), 'fi_muuks'),\n",
       " (array([[0.70710678]]), 'fi_lain'),\n",
       " (array([[0.70710678]]), 'fi_kutsu'),\n",
       " (array([[0.70710678]]), 'fi_joks'),\n",
       " (array([[0.70710678]]), 'en_unremark'),\n",
       " (array([[0.5]]), 'fi_mauttom'),\n",
       " (array([[0.5]]), 'fi_kerron'),\n",
       " (array([[0.40824829]]), 'en_ok')]"
      ]
     },
     "execution_count": 40,
     "metadata": {},
     "output_type": "execute_result"
    }
   ],
   "source": [
    "nearest_neighbours('weak', 'en')"
   ]
  },
  {
   "cell_type": "code",
   "execution_count": 41,
   "id": "4900f397-d982-4bc7-ad8c-438331a74bef",
   "metadata": {
    "tags": []
   },
   "outputs": [
    {
     "data": {
      "text/plain": [
       "[(array([[0.8660254]]), 'fi_kopio'),\n",
       " (array([[0.57735027]]), 'fi_varok'),\n",
       " (array([[0.57735027]]), 'fi_kysyt'),\n",
       " (array([[0.57735027]]), 'fi_jätety'),\n",
       " (array([[0.57735027]]), 'en_buyer'),\n",
       " (array([[0.40824829]]), 'fi_ostaj'),\n",
       " (array([[0.40824829]]), 'en_bewar'),\n",
       " (array([[0.33333333]]), 'fi_halp'),\n",
       " (array([[0.33333333]]), 'en_ask'),\n",
       " (array([[0.28867513]]), 'fi_luin')]"
      ]
     },
     "execution_count": 41,
     "metadata": {},
     "output_type": "execute_result"
    }
   ],
   "source": [
    "nearest_neighbours('knockoff', 'en')"
   ]
  },
  {
   "cell_type": "code",
   "execution_count": 42,
   "id": "1dedc3ed-8ae4-45bb-a14f-61143e34bc7a",
   "metadata": {
    "tags": []
   },
   "outputs": [
    {
     "data": {
      "text/plain": [
       "[(array([[0.5]]), 'fi_vihas'),\n",
       " (array([[0.5]]), 'fi_vihaav'),\n",
       " (array([[0.5]]), 'fi_vihaam'),\n",
       " (array([[0.5]]), 'fi_sim'),\n",
       " (array([[0.5]]), 'fi_roolihahmoa'),\n",
       " (array([[0.5]]), 'fi_näytel'),\n",
       " (array([[0.5]]), 'fi_harmit'),\n",
       " (array([[0.5]]), 'fi_arvattav'),\n",
       " (array([[0.5]]), 'fi_alister'),\n",
       " (array([[0.5]]), 'fi_1951')]"
      ]
     },
     "execution_count": 42,
     "metadata": {},
     "output_type": "execute_result"
    }
   ],
   "source": [
    "nearest_neighbours('hate', 'en')"
   ]
  },
  {
   "cell_type": "code",
   "execution_count": null,
   "id": "46055ec5-9074-42e5-842b-c7c0c31e79f8",
   "metadata": {},
   "outputs": [],
   "source": []
  }
 ],
 "metadata": {
  "kernelspec": {
   "display_name": "Python 3 (ipykernel)",
   "language": "python",
   "name": "python3"
  },
  "language_info": {
   "codemirror_mode": {
    "name": "ipython",
    "version": 3
   },
   "file_extension": ".py",
   "mimetype": "text/x-python",
   "name": "python",
   "nbconvert_exporter": "python",
   "pygments_lexer": "ipython3",
   "version": "3.8.10"
  }
 },
 "nbformat": 4,
 "nbformat_minor": 5
}
