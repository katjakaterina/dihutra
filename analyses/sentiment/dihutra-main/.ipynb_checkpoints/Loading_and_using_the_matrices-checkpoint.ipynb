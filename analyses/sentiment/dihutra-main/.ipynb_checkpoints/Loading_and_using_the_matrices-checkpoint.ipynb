{
 "cells": [
  {
   "cell_type": "code",
   "execution_count": null,
   "metadata": {},
   "outputs": [],
   "source": []
  },
  {
   "cell_type": "code",
   "execution_count": 38,
   "metadata": {},
   "outputs": [],
   "source": [
    "# uploading term2doc_nostopwords_en-ru.news+reviews.profs.id+en+ru\n",
    "import json\n",
    "filename = 'term2doc_nostopwords_en-ru.news+reviews.studs.id+en+ru.json'\n",
    "with open(filename, 'rb') as f:\n",
    "    matrix = json.load(f)"
   ]
  },
  {
   "cell_type": "code",
   "execution_count": 39,
   "metadata": {},
   "outputs": [
    {
     "data": {
      "text/plain": [
       "9421"
      ]
     },
     "execution_count": 39,
     "metadata": {},
     "output_type": "execute_result"
    }
   ],
   "source": [
    "len(matrix)"
   ]
  },
  {
   "cell_type": "code",
   "execution_count": 40,
   "metadata": {},
   "outputs": [
    {
     "name": "stdout",
     "output_type": "stream",
     "text": [
      "['ru_сын', 'en_whose', 'en_palu', 'en_glasgow', 'en_bloom', 'ru_обострен', 'ru_обеспеч', 'ru_плох', 'en_featur', 'en_goyo']\n"
     ]
    }
   ],
   "source": [
    "# the keys look like this:\n",
    "keys = list(matrix.keys())\n",
    "print(keys[:10])"
   ]
  },
  {
   "cell_type": "code",
   "execution_count": 41,
   "metadata": {},
   "outputs": [],
   "source": [
    "# import the cosine metric and the stemmers for english and the other language\n",
    "from sklearn.metrics.pairwise import cosine_similarity\n",
    "from nltk.stem.snowball import SnowballStemmer\n",
    "stemmer_en = SnowballStemmer(\"english\")\n",
    "stemmer_other = SnowballStemmer(\"russian\") # stemmer for the \"other language\", here russian; finnish for finnish etc."
   ]
  },
  {
   "cell_type": "code",
   "execution_count": 42,
   "metadata": {},
   "outputs": [
    {
     "name": "stdout",
     "output_type": "stream",
     "text": [
      "en_dog\n",
      "ru_собак\n"
     ]
    }
   ],
   "source": [
    "# let's not forget the prefix for the language!\n",
    "# I will make a function that goes from word to key to go faster\n",
    "def word2key(word, lang):\n",
    "    return lang + '_' + stemmer_en.stem(word) if lang == 'en' else lang + '_' + stemmer_other.stem(word)\n",
    "\n",
    "# let's try it out\n",
    "print(word2key('dog', 'en'))\n",
    "print(word2key('собака', 'ru'))"
   ]
  },
  {
   "cell_type": "code",
   "execution_count": null,
   "metadata": {},
   "outputs": [],
   "source": []
  },
  {
   "cell_type": "code",
   "execution_count": 43,
   "metadata": {},
   "outputs": [
    {
     "data": {
      "text/plain": [
       "array([[0.8912319]])"
      ]
     },
     "execution_count": 43,
     "metadata": {},
     "output_type": "execute_result"
    }
   ],
   "source": [
    "# comparing two words' similarity\n",
    "\n",
    "english_key = word2key('book', 'en')\n",
    "russian_key = word2key('книга', 'ru')\n",
    "cosine_similarity([matrix[english_key]], [matrix[russian_key]])"
   ]
  },
  {
   "cell_type": "code",
   "execution_count": 44,
   "metadata": {},
   "outputs": [],
   "source": [
    "# finding the nearest neighbours\n",
    "# what is the nearest neighbour to the word 'book' in the other language?\n",
    "\n",
    "to_sort = []\n",
    "for w in keys:\n",
    "    if w != english_key:\n",
    "        to_sort.append((cosine_similarity([matrix[english_key]], [matrix[w]]),w))"
   ]
  },
  {
   "cell_type": "code",
   "execution_count": 45,
   "metadata": {},
   "outputs": [
    {
     "data": {
      "text/plain": [
       "[(array([[0.8912319]]), 'ru_книг'),\n",
       " (array([[0.29740896]]), 'ru_торт'),\n",
       " (array([[0.29740896]]), 'en_cake'),\n",
       " (array([[0.24353971]]), 'ru_эт'),\n",
       " (array([[0.21029989]]), 'ru_страниц'),\n",
       " (array([[0.2079501]]), 'ru_ищет'),\n",
       " (array([[0.20134682]]), 'ru_спэн'),\n",
       " (array([[0.20134682]]), 'ru_купер'),\n",
       " (array([[0.20134682]]), 'en_style'),\n",
       " (array([[0.20134682]]), 'en_spann')]"
      ]
     },
     "execution_count": 45,
     "metadata": {},
     "output_type": "execute_result"
    }
   ],
   "source": [
    "n=10\n",
    "sorted(to_sort, reverse=True)[:n]"
   ]
  },
  {
   "cell_type": "code",
   "execution_count": 46,
   "metadata": {},
   "outputs": [],
   "source": [
    "# 'book' seems to have a steady translation"
   ]
  },
  {
   "cell_type": "code",
   "execution_count": 75,
   "metadata": {},
   "outputs": [],
   "source": [
    "# I will also make a function to go from a word to its 10 nearest neighbours\n",
    "def nearest_neighbours(word, lang, n=4):\n",
    "    key = word2key(word, lang)\n",
    "    to_sort = []\n",
    "    for w in keys:\n",
    "        if w != key:\n",
    "            to_sort.append((cosine_similarity([matrix[key]], [matrix[w]]),w))\n",
    "    return sorted(to_sort, reverse=True)[:n]"
   ]
  },
  {
   "cell_type": "code",
   "execution_count": 76,
   "metadata": {},
   "outputs": [
    {
     "data": {
      "text/plain": [
       "[(array([[1.]]), 'ru_трамп'),\n",
       " (array([[0.5976143]]), 'ru_дональд'),\n",
       " (array([[0.56694671]]), 'en_donald'),\n",
       " (array([[0.37953606]]), 'en_presid')]"
      ]
     },
     "execution_count": 76,
     "metadata": {},
     "output_type": "execute_result"
    }
   ],
   "source": [
    "# a very systematically translated word f.e. would be a name\n",
    "nearest_neighbours('trump', 'en')"
   ]
  },
  {
   "cell_type": "code",
   "execution_count": 77,
   "metadata": {},
   "outputs": [],
   "source": [
    "# the first result for trump has a perfect similarity, the second is much lower"
   ]
  },
  {
   "cell_type": "code",
   "execution_count": 78,
   "metadata": {},
   "outputs": [
    {
     "data": {
      "text/plain": [
       "[(array([[0.57735027]]), 'ru_частност'),\n",
       " (array([[0.57735027]]), 'ru_успева'),\n",
       " (array([[0.57735027]]), 'ru_условн'),\n",
       " (array([[0.57735027]]), 'ru_транскрипц')]"
      ]
     },
     "execution_count": 78,
     "metadata": {},
     "output_type": "execute_result"
    }
   ],
   "source": [
    "# on the opposite end of the spectrum, a word that has no systematic translation\n",
    "# (in the corpus, arguably in russian)\n",
    "nearest_neighbours('unless', 'en')"
   ]
  },
  {
   "cell_type": "code",
   "execution_count": 79,
   "metadata": {},
   "outputs": [],
   "source": [
    "# unless has a highly entropic cloud of mid-distance neighbours"
   ]
  },
  {
   "cell_type": "code",
   "execution_count": 80,
   "metadata": {},
   "outputs": [
    {
     "data": {
      "text/plain": [
       "[(array([[0.81649658]]), 'ru_болезнен'),\n",
       " (array([[0.57735027]]), 'ru_спазм'),\n",
       " (array([[0.57735027]]), 'en_cramp'),\n",
       " (array([[0.40824829]]), 'ru_синт')]"
      ]
     },
     "execution_count": 80,
     "metadata": {},
     "output_type": "execute_result"
    }
   ],
   "source": [
    "# pain has a less entropic cloud than \"unless\", with судорог being the closest russian word,\n",
    "# but still it is pretty far (and in fact not a perfect translation if I understand, but that \n",
    "# is also a problem of stemming).\n",
    "nearest_neighbours('pain', 'en')"
   ]
  },
  {
   "cell_type": "code",
   "execution_count": 81,
   "metadata": {},
   "outputs": [
    {
     "data": {
      "text/plain": [
       "[(array([[1.]]), 'ru_опылител'),\n",
       " (array([[1.]]), 'en_pollin'),\n",
       " (array([[0.70710678]]), 'ru_устойчив'),\n",
       " (array([[0.70710678]]), 'ru_канцероген')]"
      ]
     },
     "execution_count": 81,
     "metadata": {},
     "output_type": "execute_result"
    }
   ],
   "source": [
    "#Unfortunately rare words in the corpus can obtain several wrong perfect matches, so it will be a good practice to check for their frequency in the corpus\n",
    "nearest_neighbours('ecology', 'en') "
   ]
  },
  {
   "cell_type": "code",
   "execution_count": 82,
   "metadata": {},
   "outputs": [
    {
     "data": {
      "text/plain": [
       "[(array([[0.69991324]]), 'ru_ноч'),\n",
       " (array([[0.32444284]]), 'ru_тумбочк'),\n",
       " (array([[0.32444284]]), 'ru_прикроватн'),\n",
       " (array([[0.32444284]]), 'ru_вечер')]"
      ]
     },
     "execution_count": 82,
     "metadata": {},
     "output_type": "execute_result"
    }
   ],
   "source": [
    "# cases of different acceptable translations can have degrading probabilities \n",
    "nearest_neighbours('night', 'en')"
   ]
  },
  {
   "cell_type": "code",
   "execution_count": 83,
   "metadata": {},
   "outputs": [
    {
     "data": {
      "text/plain": [
       "[(array([[0.9701425]]), 'ru_войн'),\n",
       " (array([[0.45834925]]), 'ru_торгов'),\n",
       " (array([[0.40422604]]), 'en_trade'),\n",
       " (array([[0.36380344]]), 'ru_окончан')]"
      ]
     },
     "execution_count": 83,
     "metadata": {},
     "output_type": "execute_result"
    }
   ],
   "source": [
    "nearest_neighbours('war', 'en')"
   ]
  },
  {
   "cell_type": "code",
   "execution_count": 84,
   "metadata": {},
   "outputs": [
    {
     "data": {
      "text/plain": [
       "[(array([[0.66666667]]), 'ru_экологическ'),\n",
       " (array([[0.66666667]]), 'ru_окружа'),\n",
       " (array([[0.57735027]]), 'ru_присуд'),\n",
       " (array([[0.57735027]]), 'ru_принадлеж')]"
      ]
     },
     "execution_count": 84,
     "metadata": {},
     "output_type": "execute_result"
    }
   ],
   "source": [
    "nearest_neighbours('environmental', 'en') #two legit translations"
   ]
  },
  {
   "cell_type": "code",
   "execution_count": 85,
   "metadata": {},
   "outputs": [
    {
     "data": {
      "text/plain": [
       "[(array([[0.81649658]]), 'ru_сир'),\n",
       " (array([[0.47140452]]), 'ru_возвращен'),\n",
       " (array([[0.47140452]]), 'en_readi'),\n",
       " (array([[0.40824829]]), 'ru_правдив')]"
      ]
     },
     "execution_count": 85,
     "metadata": {},
     "output_type": "execute_result"
    }
   ],
   "source": [
    "nearest_neighbours('syria', 'en') "
   ]
  },
  {
   "cell_type": "code",
   "execution_count": 104,
   "metadata": {},
   "outputs": [
    {
     "data": {
      "text/plain": [
       "[(array([[0.76338629]]), 'ru_стран'),\n",
       " (array([[0.26261287]]), 'ru_проголос'),\n",
       " (array([[0.26261287]]), 'ru_добровольн'),\n",
       " (array([[0.26261287]]), 'en_welcom')]"
      ]
     },
     "execution_count": 104,
     "metadata": {},
     "output_type": "execute_result"
    }
   ],
   "source": [
    "nearest_neighbours('country', 'en') "
   ]
  },
  {
   "cell_type": "code",
   "execution_count": 98,
   "metadata": {},
   "outputs": [
    {
     "name": "stdout",
     "output_type": "stream",
     "text": [
      "0.9644964611972059\n"
     ]
    }
   ],
   "source": [
    "import numpy as np\n",
    "from scipy.stats import entropy\n",
    "\n",
    "def entropy_of_the_cloud(similarity_list):\n",
    "    return entropy(np.array(similarity_list).flatten(), base=len(similarity_list))\n",
    "\n",
    "# let's see the entropy of the clouds for the words we've seen\n",
    "print(entropy_of_the_cloud([x[0] for x in nearest_neighbours('trump', 'en')]))"
   ]
  },
  {
   "cell_type": "code",
   "execution_count": 99,
   "metadata": {},
   "outputs": [
    {
     "name": "stdout",
     "output_type": "stream",
     "text": [
      "1.0\n"
     ]
    }
   ],
   "source": [
    "# let's see how entropic the clouds are\n",
    "print(entropy_of_the_cloud([x[0] for x in nearest_neighbours('unless', 'en')]))"
   ]
  },
  {
   "cell_type": "code",
   "execution_count": 103,
   "metadata": {},
   "outputs": [
    {
     "name": "stdout",
     "output_type": "stream",
     "text": [
      "0.9023970328731514\n"
     ]
    }
   ],
   "source": [
    "print(entropy_of_the_cloud([x[0] for x in nearest_neighbours('country', 'en')]))"
   ]
  },
  {
   "cell_type": "code",
   "execution_count": 95,
   "metadata": {},
   "outputs": [
    {
     "name": "stdout",
     "output_type": "stream",
     "text": [
      "1.0\n"
     ]
    }
   ],
   "source": [
    "print(entropy_of_the_cloud([x[0] for x in nearest_neighbours('bully', 'en')]))"
   ]
  },
  {
   "cell_type": "code",
   "execution_count": 96,
   "metadata": {},
   "outputs": [
    {
     "name": "stdout",
     "output_type": "stream",
     "text": [
      "0.9970372532381339\n"
     ]
    }
   ],
   "source": [
    "print(entropy_of_the_cloud([x[0] for x in nearest_neighbours('fear', 'en')]))"
   ]
  },
  {
   "cell_type": "code",
   "execution_count": 97,
   "metadata": {},
   "outputs": [
    {
     "name": "stdout",
     "output_type": "stream",
     "text": [
      "0.9707977567330853\n"
     ]
    }
   ],
   "source": [
    "print(entropy_of_the_cloud([x[0] for x in nearest_neighbours('syria', 'en')]))"
   ]
  },
  {
   "cell_type": "code",
   "execution_count": 101,
   "metadata": {},
   "outputs": [
    {
     "data": {
      "text/plain": [
       "[(1.0, 'unless'),\n",
       " (1.0, 'bully'),\n",
       " (0.9981392069160074, 'environmental'),\n",
       " (0.9707977567330853, 'syria'),\n",
       " (0.9562897546505799, 'trump'),\n",
       " (0.93574299558834, 'war')]"
      ]
     },
     "execution_count": 101,
     "metadata": {},
     "output_type": "execute_result"
    }
   ],
   "source": [
    "# sorting words from most systematically to least systematically translated\n",
    "\n",
    "words = \"\"\"trump\n",
    "environmental\n",
    "war\n",
    "bully\n",
    "syria\n",
    "unless\"\"\".split(\"\\n\")\n",
    "\n",
    "list_to_sort = []\n",
    "for w in words:\n",
    "    list_to_sort.append((entropy_of_the_cloud([x[0] for x in nearest_neighbours(w, 'en')]), w))"
   ]
  },
  {
   "cell_type": "code",
   "execution_count": 102,
   "metadata": {},
   "outputs": [
    {
     "data": {
      "text/plain": [
       "[(0.93574299558834, 'war'),\n",
       " (0.9562897546505799, 'trump'),\n",
       " (0.9707977567330853, 'syria'),\n",
       " (0.9981392069160074, 'environmental'),\n",
       " (1.0, 'bully'),\n",
       " (1.0, 'unless')]"
      ]
     },
     "execution_count": 102,
     "metadata": {},
     "output_type": "execute_result"
    }
   ],
   "source": [
    "# from most to least systematically translated\n",
    "sorted(list_to_sort, reverse=False)"
   ]
  },
  {
   "cell_type": "code",
   "execution_count": null,
   "metadata": {},
   "outputs": [],
   "source": [
    "# imperfect measure, we can improve it. But it's a start."
   ]
  }
 ],
 "metadata": {
  "kernelspec": {
   "display_name": "Python 3.9.5 ('tensorflow')",
   "language": "python",
   "name": "python3"
  },
  "language_info": {
   "codemirror_mode": {
    "name": "ipython",
    "version": 3
   },
   "file_extension": ".py",
   "mimetype": "text/x-python",
   "name": "python",
   "nbconvert_exporter": "python",
   "pygments_lexer": "ipython3",
   "version": "3.9.5"
  },
  "orig_nbformat": 4,
  "vscode": {
   "interpreter": {
    "hash": "1ae3380364674281832e5ce4a4f89337acdd570693f07d8c96b715a5197d788f"
   }
  }
 },
 "nbformat": 4,
 "nbformat_minor": 2
}
