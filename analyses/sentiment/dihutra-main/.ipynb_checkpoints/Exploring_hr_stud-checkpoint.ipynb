{
 "cells": [
  {
   "cell_type": "code",
   "execution_count": 52,
   "id": "f16e813f-2a26-4025-97d1-1ce5daf0fc68",
   "metadata": {
    "tags": []
   },
   "outputs": [],
   "source": [
    "# uploading term2doc_nostopwords_en-ru.news+reviews.profs.id+en+ru\n",
    "import json\n",
    "filename = 'term2doc_nostopwords_en-ru.news+reviews.studs.id+en+ru.json'\n",
    "with open(filename, 'rb') as f:\n",
    "    matrix = json.load(f)"
   ]
  },
  {
   "cell_type": "code",
   "execution_count": 50,
   "id": "46229c92-a96e-42f8-ab8c-809c2ebecac7",
   "metadata": {
    "tags": []
   },
   "outputs": [
    {
     "data": {
      "text/plain": [
       "9421"
      ]
     },
     "execution_count": 50,
     "metadata": {},
     "output_type": "execute_result"
    }
   ],
   "source": [
    "len(matrix)"
   ]
  },
  {
   "cell_type": "code",
   "execution_count": 53,
   "id": "54766421-7b85-4a0f-998c-012af00be3d3",
   "metadata": {
    "tags": []
   },
   "outputs": [
    {
     "name": "stdout",
     "output_type": "stream",
     "text": [
      "['ru_сын', 'en_whose', 'en_palu', 'en_glasgow', 'en_bloom', 'ru_обострен', 'ru_обеспеч', 'ru_плох', 'en_featur', 'en_goyo']\n"
     ]
    }
   ],
   "source": [
    "# the keys look like this:\n",
    "keys = list(matrix.keys())\n",
    "print(keys[:10])\n"
   ]
  },
  {
   "cell_type": "code",
   "execution_count": 54,
   "id": "ed57ddfb-e37e-484b-a2e3-f48fc9099a8b",
   "metadata": {
    "tags": []
   },
   "outputs": [],
   "source": [
    "# import the cosine metric and the stemmers for english and the other language\n",
    "from sklearn.metrics.pairwise import cosine_similarity\n",
    "from nltk.stem.snowball import SnowballStemmer\n",
    "stemmer_en = SnowballStemmer(\"english\")\n",
    "stemmer_other = SnowballStemmer(\"russian\") # stemmer for the \"other language\", here russian; finnish for finnish etc.\n",
    "\n"
   ]
  },
  {
   "cell_type": "code",
   "execution_count": 55,
   "id": "75d07e48-7151-45d0-9549-4bebbdcf2d9c",
   "metadata": {
    "tags": []
   },
   "outputs": [
    {
     "name": "stdout",
     "output_type": "stream",
     "text": [
      "en_dog\n",
      "ru_собак\n"
     ]
    }
   ],
   "source": [
    "# let's not forget the prefix for the language!\n",
    "# I will make a function that goes from word to key to go faster\n",
    "def word2key(word, lang):\n",
    "    return lang + '_' + stemmer_en.stem(word) if lang == 'en' else lang + '_' + stemmer_other.stem(word)\n",
    "\n",
    "# let's try it out\n",
    "print(word2key('dog', 'en'))\n",
    "print(word2key('собака', 'ru'))"
   ]
  },
  {
   "cell_type": "code",
   "execution_count": 56,
   "id": "b2a265a4-9ca3-4ab0-a976-470fdd21b65f",
   "metadata": {
    "tags": []
   },
   "outputs": [
    {
     "data": {
      "text/plain": [
       "array([[0.8912319]])"
      ]
     },
     "execution_count": 56,
     "metadata": {},
     "output_type": "execute_result"
    }
   ],
   "source": [
    "# comparing two words' similarity\n",
    "\n",
    "english_key = word2key('book', 'en')\n",
    "russian_key = word2key('книга', 'ru')\n",
    "cosine_similarity([matrix[english_key]], [matrix[russian_key]])\n"
   ]
  },
  {
   "cell_type": "code",
   "execution_count": 57,
   "id": "dcd39055-dcbc-4239-ab53-034064e58f58",
   "metadata": {
    "tags": []
   },
   "outputs": [],
   "source": [
    "# finding the nearest neighbours\n",
    "# what is the nearest neighbour to the word 'book' in the other language?\n",
    "\n",
    "to_sort = []\n",
    "for w in keys:\n",
    "    if w != english_key:\n",
    "        to_sort.append((cosine_similarity([matrix[english_key]], [matrix[w]]),w))\n",
    "\n"
   ]
  },
  {
   "cell_type": "code",
   "execution_count": 46,
   "id": "f7f4a3ab-091e-4342-a5bc-8a961f6536df",
   "metadata": {
    "tags": []
   },
   "outputs": [
    {
     "data": {
      "text/plain": [
       "[(array([[0.8912319]]), 'ru_книг'),\n",
       " (array([[0.29740896]]), 'ru_торт'),\n",
       " (array([[0.29740896]]), 'en_cake'),\n",
       " (array([[0.24353971]]), 'ru_эт'),\n",
       " (array([[0.21029989]]), 'ru_страниц'),\n",
       " (array([[0.2079501]]), 'ru_ищет'),\n",
       " (array([[0.20134682]]), 'ru_спэн'),\n",
       " (array([[0.20134682]]), 'ru_купер'),\n",
       " (array([[0.20134682]]), 'en_style'),\n",
       " (array([[0.20134682]]), 'en_spann')]"
      ]
     },
     "execution_count": 46,
     "metadata": {},
     "output_type": "execute_result"
    }
   ],
   "source": [
    "n=10\n",
    "sorted(to_sort, reverse=True)[:n]"
   ]
  },
  {
   "cell_type": "code",
   "execution_count": 58,
   "id": "39dc1d94-10ec-481a-b9f4-84118997d17f",
   "metadata": {
    "tags": []
   },
   "outputs": [],
   "source": [
    "# I will also make a function to go from a word to its 10 nearest neighbours\n",
    "def nearest_neighbours(word, lang, n=10):\n",
    "    key = word2key(word, lang)\n",
    "    to_sort = []\n",
    "    for w in keys:\n",
    "        if w != key:\n",
    "            to_sort.append((cosine_similarity([matrix[key]], [matrix[w]]),w))\n",
    "    return sorted(to_sort, reverse=True)[:n]\n"
   ]
  },
  {
   "cell_type": "code",
   "execution_count": 11,
   "id": "8217b35b-e796-4575-9957-5b260c4f6765",
   "metadata": {
    "tags": []
   },
   "outputs": [],
   "source": [
    "# Exploring most frequent positive words in EN originals: good, great, well, favorite, nice, excellent, original, recommend, love"
   ]
  },
  {
   "cell_type": "code",
   "execution_count": 51,
   "id": "3721401c-0e9c-4c3e-8ace-9215e1e324ea",
   "metadata": {
    "tags": []
   },
   "outputs": [
    {
     "data": {
      "text/plain": [
       "[(array([[0.52610428]]), 'ru_хорош'),\n",
       " (array([[0.21821789]]), 'ru_добр'),\n",
       " (array([[0.19200614]]), 'en_realli'),\n",
       " (array([[0.18898224]]), 'ru_тариф'),\n",
       " (array([[0.18898224]]), 'ru_бабочк'),\n",
       " (array([[0.18898224]]), 'en_butterfli'),\n",
       " (array([[0.17928429]]), 'ru_представлен'),\n",
       " (array([[0.16903085]]), 'en_idea'),\n",
       " (array([[0.15699646]]), 'en_.'),\n",
       " (array([[0.15675134]]), 'ru_.')]"
      ]
     },
     "execution_count": 51,
     "metadata": {},
     "output_type": "execute_result"
    }
   ],
   "source": [
    "nearest_neighbours('good', 'en')"
   ]
  },
  {
   "cell_type": "code",
   "execution_count": 59,
   "id": "d5f9fb4d-21a7-45c6-9d25-a6e4b99866a8",
   "metadata": {
    "tags": []
   },
   "outputs": [
    {
     "data": {
      "text/plain": [
       "[(array([[0.54207975]]), 'ru_отличн'),\n",
       " (array([[0.24571805]]), 'ru_доставк'),\n",
       " (array([[0.19425717]]), 'ru_повсюд'),\n",
       " (array([[0.19425717]]), 'ru_вещ'),\n",
       " (array([[0.19425717]]), 'ru_алфавит'),\n",
       " (array([[0.19425717]]), 'en_candid'),\n",
       " (array([[0.19425717]]), 'en_alphabet'),\n",
       " (array([[0.18193851]]), 'en_work'),\n",
       " (array([[0.16483268]]), 'ru_цен'),\n",
       " (array([[0.16381203]]), 'ru_работа')]"
      ]
     },
     "execution_count": 59,
     "metadata": {},
     "output_type": "execute_result"
    }
   ],
   "source": [
    "nearest_neighbours('great', 'en')"
   ]
  },
  {
   "cell_type": "code",
   "execution_count": 60,
   "id": "1489994d-51e4-447c-98f8-8d95ead42746",
   "metadata": {
    "tags": []
   },
   "outputs": [
    {
     "data": {
      "text/plain": [
       "[(array([[0.29633363]]), 'ru_хорош'),\n",
       " (array([[0.25]]), 'ru_поп'),\n",
       " (array([[0.24283093]]), 'en_work'),\n",
       " (array([[0.23570226]]), 'ru_элемент'),\n",
       " (array([[0.23570226]]), 'ru_предубежден'),\n",
       " (array([[0.21081851]]), 'en_written'),\n",
       " (array([[0.19245009]]), 'ru_обеспечива'),\n",
       " (array([[0.19245009]]), 'ru_жесток'),\n",
       " (array([[0.18898224]]), 'ru_потряса'),\n",
       " (array([[0.1767767]]), 'ru_удобн')]"
      ]
     },
     "execution_count": 60,
     "metadata": {},
     "output_type": "execute_result"
    }
   ],
   "source": [
    "nearest_neighbours('well', 'en')"
   ]
  },
  {
   "cell_type": "code",
   "execution_count": 61,
   "id": "ea211f19-b412-412a-997a-9aeda99849b2",
   "metadata": {
    "tags": []
   },
   "outputs": [
    {
     "data": {
      "text/plain": [
       "[(array([[0.53452248]]), 'ru_праздничн'),\n",
       " (array([[0.50709255]]), 'ru_любим'),\n",
       " (array([[0.37796447]]), 'ru_фавор'),\n",
       " (array([[0.37796447]]), 'ru_поб'),\n",
       " (array([[0.37796447]]), 'ru_нелюбим'),\n",
       " (array([[0.37796447]]), 'ru_мокк'),\n",
       " (array([[0.37796447]]), 'en_pasttim'),\n",
       " (array([[0.37796447]]), 'en_mocha'),\n",
       " (array([[0.37796447]]), 'en_holiday'),\n",
       " (array([[0.37796447]]), 'en_ecstat')]"
      ]
     },
     "execution_count": 61,
     "metadata": {},
     "output_type": "execute_result"
    }
   ],
   "source": [
    "nearest_neighbours('favorite', 'en')"
   ]
  },
  {
   "cell_type": "code",
   "execution_count": 62,
   "id": "60542010-99f8-478f-9c81-c2dd821ba2ec",
   "metadata": {
    "tags": []
   },
   "outputs": [
    {
     "data": {
      "text/plain": [
       "[(array([[0.26726124]]), 'ru_эндрюс'),\n",
       " (array([[0.26726124]]), 'ru_шнур'),\n",
       " (array([[0.26726124]]), 'ru_шла'),\n",
       " (array([[0.26726124]]), 'ru_шикарн'),\n",
       " (array([[0.26726124]]), 'ru_прилож'),\n",
       " (array([[0.26726124]]), 'ru_плюшек'),\n",
       " (array([[0.26726124]]), 'ru_переключа'),\n",
       " (array([[0.26726124]]), 'ru_ощуп'),\n",
       " (array([[0.26726124]]), 'ru_открытк'),\n",
       " (array([[0.26726124]]), 'ru_объектив')]"
      ]
     },
     "execution_count": 62,
     "metadata": {},
     "output_type": "execute_result"
    }
   ],
   "source": [
    "nearest_neighbours('nice', 'en')"
   ]
  },
  {
   "cell_type": "code",
   "execution_count": 63,
   "id": "aeef373e-898a-4155-b6af-301015ccc08f",
   "metadata": {
    "tags": []
   },
   "outputs": [
    {
     "data": {
      "text/plain": [
       "[(array([[0.34426519]]), 'ru_отличн'),\n",
       " (array([[0.31622777]]), 'ru_эбенизер'),\n",
       " (array([[0.31622777]]), 'ru_распределител'),\n",
       " (array([[0.31622777]]), 'ru_пейн'),\n",
       " (array([[0.31622777]]), 'ru_нискольк'),\n",
       " (array([[0.31622777]]), 'ru_латун'),\n",
       " (array([[0.31622777]]), 'ru_двухканальн'),\n",
       " (array([[0.31622777]]), 'en_prompt'),\n",
       " (array([[0.31622777]]), 'en_payn'),\n",
       " (array([[0.31622777]]), 'en_functiona')]"
      ]
     },
     "execution_count": 63,
     "metadata": {},
     "output_type": "execute_result"
    }
   ],
   "source": [
    "nearest_neighbours('excellent', 'en')"
   ]
  },
  {
   "cell_type": "code",
   "execution_count": 64,
   "id": "3c10bd41-0db1-4bb8-b6b5-d48c6d3b25f9",
   "metadata": {
    "tags": []
   },
   "outputs": [
    {
     "data": {
      "text/plain": [
       "[(array([[0.65319726]]), 'ru_оригинальн'),\n",
       " (array([[0.36514837]]), 'ru_оригина'),\n",
       " (array([[0.36514837]]), 'ru_клиффхэнгер'),\n",
       " (array([[0.36514837]]), 'en_theme'),\n",
       " (array([[0.36514837]]), 'en_shown'),\n",
       " (array([[0.2981424]]), 'ru_сериа'),\n",
       " (array([[0.2981424]]), 'ru_cd'),\n",
       " (array([[0.25819889]]), 'ru_ярк'),\n",
       " (array([[0.25819889]]), 'ru_цепочк'),\n",
       " (array([[0.25819889]]), 'ru_храбр')]"
      ]
     },
     "execution_count": 64,
     "metadata": {},
     "output_type": "execute_result"
    }
   ],
   "source": [
    "nearest_neighbours('original', 'en')"
   ]
  },
  {
   "cell_type": "code",
   "execution_count": 65,
   "id": "40ac4865-2ac6-44b3-83d3-0c73e6013e85",
   "metadata": {
    "tags": []
   },
   "outputs": [
    {
     "data": {
      "text/plain": [
       "[(array([[0.63737744]]), 'ru_рекоменд'),\n",
       " (array([[0.43852901]]), 'ru_порекомендова'),\n",
       " (array([[0.38074981]]), 'en_anyon'),\n",
       " (array([[0.2773501]]), 'ru_ребят'),\n",
       " (array([[0.26355339]]), 'en_would'),\n",
       " (array([[0.23782575]]), 'ru_всем'),\n",
       " (array([[0.20965697]]), 'ru_попробова'),\n",
       " (array([[0.19611614]]), 'ru_чудес'),\n",
       " (array([[0.19611614]]), 'ru_чолул'),\n",
       " (array([[0.19611614]]), 'ru_фронтер')]"
      ]
     },
     "execution_count": 65,
     "metadata": {},
     "output_type": "execute_result"
    }
   ],
   "source": [
    "nearest_neighbours('recommend', 'en')"
   ]
  },
  {
   "cell_type": "code",
   "execution_count": 66,
   "id": "97ec74eb-0309-40c1-b3b8-3c49e73d4af6",
   "metadata": {
    "tags": []
   },
   "outputs": [
    {
     "data": {
      "text/plain": [
       "[(array([[0.42059978]]), 'ru_нрав'),\n",
       " (array([[0.37715714]]), 'ru_понрав'),\n",
       " (array([[0.24659848]]), 'ru_обожа'),\n",
       " (array([[0.24659848]]), 'ru_любл'),\n",
       " (array([[0.23249528]]), 'ru_вся'),\n",
       " (array([[0.1898316]]), 'ru_линейк'),\n",
       " (array([[0.1898316]]), 'ru_иде'),\n",
       " (array([[0.1898316]]), 'ru_macely'),\n",
       " (array([[0.1898316]]), 'en_mace'),\n",
       " (array([[0.18652107]]), 'ru_очен')]"
      ]
     },
     "execution_count": 66,
     "metadata": {},
     "output_type": "execute_result"
    }
   ],
   "source": [
    "nearest_neighbours('love', 'en')"
   ]
  },
  {
   "cell_type": "code",
   "execution_count": null,
   "id": "0ea9411e-5bea-48de-a6bd-4869c0bdfe07",
   "metadata": {},
   "outputs": [],
   "source": [
    "# Exploring most frequent negative words in EN originals: fake, awful, bad, lame, mean, upset, weak, knockoff, mess, cramp, hate"
   ]
  },
  {
   "cell_type": "code",
   "execution_count": 68,
   "id": "aee68a93-72bf-4df4-9b2e-74fdf5bea40e",
   "metadata": {
    "tags": []
   },
   "outputs": [
    {
     "data": {
      "text/plain": [
       "[(array([[0.82717019]]), 'ru_поддельн'),\n",
       " (array([[0.61558701]]), 'ru_mac'),\n",
       " (array([[0.61558701]]), 'en_mac'),\n",
       " (array([[0.39735971]]), 'en_dont'),\n",
       " (array([[0.3441236]]), 'en_makeup'),\n",
       " (array([[0.32444284]]), 'ru_фейков'),\n",
       " (array([[0.32444284]]), 'ru_рассыпчат'),\n",
       " (array([[0.32444284]]), 'ru_выяв'),\n",
       " (array([[0.32444284]]), 'ru_instagram'),\n",
       " (array([[0.32444284]]), 'ru_20000')]"
      ]
     },
     "execution_count": 68,
     "metadata": {},
     "output_type": "execute_result"
    }
   ],
   "source": [
    "nearest_neighbours('fake', 'en')"
   ]
  },
  {
   "cell_type": "code",
   "execution_count": 69,
   "id": "c4ca93ac-6b24-4114-aa69-c1e853f4e4c5",
   "metadata": {
    "tags": []
   },
   "outputs": [
    {
     "data": {
      "text/plain": [
       "[(array([[0.57142857]]), 'ru_отвратительн'),\n",
       " (array([[0.39036003]]), 'en_tast'),\n",
       " (array([[0.37796447]]), 'ru_предназнач'),\n",
       " (array([[0.37796447]]), 'ru_деревя'),\n",
       " (array([[0.37796447]]), 'en_wooden'),\n",
       " (array([[0.37796447]]), 'en_utensil'),\n",
       " (array([[0.37796447]]), 'en_gray'),\n",
       " (array([[0.37796447]]), 'en_episod'),\n",
       " (array([[0.37796447]]), 'en_clifhang'),\n",
       " (array([[0.37796447]]), 'en_chop')]"
      ]
     },
     "execution_count": 69,
     "metadata": {},
     "output_type": "execute_result"
    }
   ],
   "source": [
    "nearest_neighbours('awful', 'en')"
   ]
  },
  {
   "cell_type": "code",
   "execution_count": 70,
   "id": "57dbc844-1edf-4f84-84a6-d649c14ac72f",
   "metadata": {
    "tags": []
   },
   "outputs": [
    {
     "data": {
      "text/plain": [
       "[(array([[0.70710678]]), 'ru_смахива'),\n",
       " (array([[0.70710678]]), 'ru_рассказчик'),\n",
       " (array([[0.70710678]]), 'ru_ерес'),\n",
       " (array([[0.70710678]]), 'ru_дюрант'),\n",
       " (array([[0.70710678]]), 'ru_джимм'),\n",
       " (array([[0.70710678]]), 'ru_бредятин'),\n",
       " (array([[0.70710678]]), 'ru_90х'),\n",
       " (array([[0.70710678]]), 'en_paean'),\n",
       " (array([[0.70710678]]), 'en_jimmi'),\n",
       " (array([[0.70710678]]), 'en_durant')]"
      ]
     },
     "execution_count": 70,
     "metadata": {},
     "output_type": "execute_result"
    }
   ],
   "source": [
    "nearest_neighbours('lame', 'en')"
   ]
  },
  {
   "cell_type": "code",
   "execution_count": 71,
   "id": "19c0f37c-f2b9-4b20-ae20-8a3da6390149",
   "metadata": {
    "tags": []
   },
   "outputs": [
    {
     "data": {
      "text/plain": [
       "[(array([[0.52223297]]), 'ru_подлост'),\n",
       " (array([[0.42640143]]), 'ru_гнев'),\n",
       " (array([[0.42640143]]), 'en_nasti'),\n",
       " (array([[0.42640143]]), 'en_anger'),\n",
       " (array([[0.34815531]]), 'ru_страда'),\n",
       " (array([[0.34815531]]), 'ru_знач'),\n",
       " (array([[0.30151134]]), 'ru_цзиньпин'),\n",
       " (array([[0.30151134]]), 'ru_требован'),\n",
       " (array([[0.30151134]]), 'ru_си'),\n",
       " (array([[0.30151134]]), 'ru_решим')]"
      ]
     },
     "execution_count": 71,
     "metadata": {},
     "output_type": "execute_result"
    }
   ],
   "source": [
    "nearest_neighbours('mean', 'en')"
   ]
  },
  {
   "cell_type": "code",
   "execution_count": 72,
   "id": "dea94b29-f3f5-494c-a9bd-067e20234fd3",
   "metadata": {
    "tags": []
   },
   "outputs": [
    {
     "data": {
      "text/plain": [
       "[(array([[0.57735027]]), 'ru_расстро'),\n",
       " (array([[0.5]]), 'ru_похищен'),\n",
       " (array([[0.5]]), 'ru_побольш'),\n",
       " (array([[0.5]]), 'ru_овц'),\n",
       " (array([[0.5]]), 'ru_дефектн'),\n",
       " (array([[0.5]]), 'ru_баб'),\n",
       " (array([[0.5]]), 'en_super'),\n",
       " (array([[0.5]]), 'en_sheep'),\n",
       " (array([[0.5]]), 'en_lose'),\n",
       " (array([[0.5]]), 'en_kidnap')]"
      ]
     },
     "execution_count": 72,
     "metadata": {},
     "output_type": "execute_result"
    }
   ],
   "source": [
    "nearest_neighbours('upset', 'en')"
   ]
  },
  {
   "cell_type": "code",
   "execution_count": 73,
   "id": "2554095e-d52e-4970-8369-7e2750befee1",
   "metadata": {
    "tags": []
   },
   "outputs": [
    {
     "data": {
      "text/plain": [
       "[(array([[0.81649658]]), 'ru_слаб'),\n",
       " (array([[0.70710678]]), 'ru_примечательн'),\n",
       " (array([[0.70710678]]), 'ru_приемлем'),\n",
       " (array([[0.70710678]]), 'ru_ароматн'),\n",
       " (array([[0.70710678]]), 'en_unremark'),\n",
       " (array([[0.5]]), 'ru_повествован'),\n",
       " (array([[0.40824829]]), 'ru_сюжет'),\n",
       " (array([[0.40824829]]), 'ru_откровен'),\n",
       " (array([[0.40824829]]), 'en_ok'),\n",
       " (array([[0.35355339]]), 'en_narrat')]"
      ]
     },
     "execution_count": 73,
     "metadata": {},
     "output_type": "execute_result"
    }
   ],
   "source": [
    "nearest_neighbours('weak', 'en')"
   ]
  },
  {
   "cell_type": "code",
   "execution_count": 36,
   "id": "4900f397-d982-4bc7-ad8c-438331a74bef",
   "metadata": {
    "tags": []
   },
   "outputs": [
    {
     "data": {
      "text/plain": [
       "[(array([[0.57735027]]), 'ru_бдительн'),\n",
       " (array([[0.57735027]]), 'en_buyer'),\n",
       " (array([[0.46291005]]), 'ru_подделк'),\n",
       " (array([[0.40824829]]), 'ru_покупател'),\n",
       " (array([[0.40824829]]), 'ru_будьт'),\n",
       " (array([[0.40824829]]), 'en_bewar'),\n",
       " (array([[0.33333333]]), 'ru_отз'),\n",
       " (array([[0.21821789]]), 'ru_прочита'),\n",
       " (array([[0.20412415]]), 'ru_спрос'),\n",
       " (array([[0.19245009]]), 'en_left')]"
      ]
     },
     "execution_count": 36,
     "metadata": {},
     "output_type": "execute_result"
    }
   ],
   "source": [
    "nearest_neighbours('knockoff', 'en')"
   ]
  },
  {
   "cell_type": "code",
   "execution_count": 38,
   "id": "1dedc3ed-8ae4-45bb-a14f-61143e34bc7a",
   "metadata": {
    "tags": []
   },
   "outputs": [
    {
     "data": {
      "text/plain": [
       "[(array([[0.5]]), 'ru_сим'),\n",
       " (array([[0.5]]), 'ru_предсказуем'),\n",
       " (array([[0.5]]), 'ru_постановк'),\n",
       " (array([[0.5]]), 'ru_ненавидет'),\n",
       " (array([[0.5]]), 'ru_алистер'),\n",
       " (array([[0.5]]), 'ru_1951'),\n",
       " (array([[0.5]]), 'en_predict'),\n",
       " (array([[0.5]]), 'en_alist'),\n",
       " (array([[0.5]]), 'en_1951'),\n",
       " (array([[0.35355339]]), 'ru_математик')]"
      ]
     },
     "execution_count": 38,
     "metadata": {},
     "output_type": "execute_result"
    }
   ],
   "source": [
    "nearest_neighbours('hate', 'en')"
   ]
  },
  {
   "cell_type": "code",
   "execution_count": null,
   "id": "46055ec5-9074-42e5-842b-c7c0c31e79f8",
   "metadata": {},
   "outputs": [],
   "source": []
  }
 ],
 "metadata": {
  "kernelspec": {
   "display_name": "Python 3 (ipykernel)",
   "language": "python",
   "name": "python3"
  },
  "language_info": {
   "codemirror_mode": {
    "name": "ipython",
    "version": 3
   },
   "file_extension": ".py",
   "mimetype": "text/x-python",
   "name": "python",
   "nbconvert_exporter": "python",
   "pygments_lexer": "ipython3",
   "version": "3.8.10"
  }
 },
 "nbformat": 4,
 "nbformat_minor": 5
}
